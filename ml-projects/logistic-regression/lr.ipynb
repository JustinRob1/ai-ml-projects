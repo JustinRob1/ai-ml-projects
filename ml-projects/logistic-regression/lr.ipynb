{
  "cells": [
    {
      "cell_type": "code",
      "execution_count": null,
      "metadata": {
        "id": "6LeKIbAQMGPx"
      },
      "outputs": [],
      "source": [
        "import timeit\n",
        "import numpy as np\n",
        "from sklearn.linear_model import LogisticRegression"
      ]
    },
    {
      "cell_type": "code",
      "execution_count": null,
      "metadata": {
        "id": "PUS2LHf8LwBk"
      },
      "outputs": [],
      "source": [
        "class logistic_regression(object):\n",
        "\n",
        "    def __init__(self, features, obs, d):\n",
        "        self.features = features\n",
        "        self.obs = obs\n",
        "        self.d = d\n",
        "\n",
        "    def solve(self):\n",
        "        model = LogisticRegression()\n",
        "        self.obs = (self.obs > np.median(self.obs)).astype(int)\n",
        "        model.fit(self.features, self.obs)\n",
        "        theta = model.coef_[0].reshape(-1, 1)\n",
        "        return theta"
      ]
    },
    {
      "cell_type": "code",
      "execution_count": null,
      "metadata": {
        "id": "otS8TT_qNOQ_"
      },
      "outputs": [],
      "source": [
        "features = np.load('feature.npy')\n",
        "obs = np.load(\"obs.npy\")\n",
        "d = 10\n",
        "\n",
        "predictor = logistic_regression(features, obs, d)"
      ]
    },
    {
      "cell_type": "code",
      "execution_count": null,
      "metadata": {
        "colab": {
          "base_uri": "https://localhost:8080/"
        },
        "id": "jVugvqSxNZcv",
        "outputId": "508f088e-f8ed-4ea8-b3de-c720b742e4ed"
      },
      "outputs": [],
      "source": [
        "tic = timeit.default_timer()\n",
        "theta = predictor.solve()\n",
        "toc = timeit.default_timer()\n",
        "\n",
        "print(toc - tic)\n",
        "print(theta)"
      ]
    }
  ],
  "metadata": {
    "accelerator": "GPU",
    "colab": {
      "gpuType": "T4",
      "provenance": []
    },
    "kernelspec": {
      "display_name": "Python 3",
      "name": "python3"
    },
    "language_info": {
      "codemirror_mode": {
        "name": "ipython",
        "version": 3
      },
      "file_extension": ".py",
      "mimetype": "text/x-python",
      "name": "python",
      "nbconvert_exporter": "python",
      "pygments_lexer": "ipython3",
      "version": "3.12.3"
    }
  },
  "nbformat": 4,
  "nbformat_minor": 0
}
